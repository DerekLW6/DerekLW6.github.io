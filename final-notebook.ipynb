{
 "cells": [
  {
   "cell_type": "code",
   "execution_count": 25,
   "metadata": {},
   "outputs": [],
   "source": [
    "import random\n",
    "import string\n",
    "from pathlib import Path\n",
    "import os\n",
    "import requests\n",
    "import shutil\n",
    "\n",
    "from git import Repo\n",
    "from bs4 import BeautifulSoup as Soup\n",
    "import openai\n",
    "from PIL import Image"
   ]
  },
  {
   "cell_type": "code",
   "execution_count": 26,
   "metadata": {},
   "outputs": [],
   "source": [
    "#PATH_TO_BLOG_REPO = Path(\"/Users/marci/GIT/OpenAI-API-Python-Course/04-Auto-Blog-Post/b4shy.github.io/.git/\")\n",
    "PATH_TO_BLOG_REPO = Path('c:\\\\Users\\\\derek\\\\Documents\\\\GitHub\\\\DerekLW6.github.io\\\\.git')\n",
    "PATH_TO_BLOG = PATH_TO_BLOG_REPO.parent\n",
    "PATH_TO_CONTENT = PATH_TO_BLOG/\"content\"\n",
    "PATH_TO_CONTENT.mkdir(exist_ok=True, parents=True)"
   ]
  },
  {
   "cell_type": "code",
   "execution_count": 27,
   "metadata": {},
   "outputs": [
    {
     "data": {
      "text/plain": [
       "WindowsPath('c:/Users/derek/Documents/GitHub/DerekLW6.github.io')"
      ]
     },
     "execution_count": 27,
     "metadata": {},
     "output_type": "execute_result"
    }
   ],
   "source": [
    "PATH_TO_BLOG"
   ]
  },
  {
   "cell_type": "code",
   "execution_count": 28,
   "metadata": {},
   "outputs": [
    {
     "data": {
      "text/plain": [
       "'h\\nbaaktqmk'"
      ]
     },
     "execution_count": 28,
     "metadata": {},
     "output_type": "execute_result"
    }
   ],
   "source": [
    "def random_string(length):\n",
    "    letters = string.ascii_lowercase + \"\\n\"\n",
    "    \n",
    "    return ''.join(random.choice(letters) for i in range(length))\n",
    "\n",
    "random_string(10)"
   ]
  },
  {
   "cell_type": "code",
   "execution_count": 29,
   "metadata": {},
   "outputs": [],
   "source": [
    "def update_blog(commit_message=\"Updated blog\"):\n",
    "    repo = Repo(PATH_TO_BLOG_REPO)\n",
    "    repo.git.add(all=True)\n",
    "    repo.index.commit(commit_message)\n",
    "    origin = repo.remote(name='origin')\n",
    "    origin.push()"
   ]
  },
  {
   "cell_type": "code",
   "execution_count": 30,
   "metadata": {},
   "outputs": [],
   "source": [
    "random_blogpost = random_string(1000)"
   ]
  },
  {
   "cell_type": "code",
   "execution_count": 31,
   "metadata": {},
   "outputs": [],
   "source": [
    "with open(PATH_TO_BLOG/\"index.html\", \"w\") as f:\n",
    "    f.write(random_blogpost)"
   ]
  },
  {
   "cell_type": "code",
   "execution_count": 32,
   "metadata": {},
   "outputs": [],
   "source": [
    "update_blog()"
   ]
  },
  {
   "cell_type": "code",
   "execution_count": 33,
   "metadata": {},
   "outputs": [],
   "source": [
    "def create_new_blog(title, content, cover_image=Path(\"test.jpg\")):\n",
    "    \n",
    "    cover_image = Path(cover_image)\n",
    "    \n",
    "    files =len(list(PATH_TO_CONTENT.glob(\"*.html\")))\n",
    "    new_title = f\"{files+1}.html\"\n",
    "    path_to_new_content = PATH_TO_CONTENT/new_title\n",
    "    \n",
    "    shutil.copy(cover_image, PATH_TO_CONTENT)\n",
    "    if not os.path.exists(path_to_new_content):\n",
    "        with open(path_to_new_content, \"w\") as f:\n",
    "            f.write(\"<!DOCTYPE html>\\n\")\n",
    "            f.write(\"<html>\\n\")\n",
    "            f.write(\"<head>\\n\")\n",
    "            f.write(f\"<title> {title} </title>\\n\")\n",
    "            f.write(\"</head>\\n\")\n",
    "            \n",
    "            f.write(\"<body>\\n\")\n",
    "            f.write(f\"<img src='{cover_image.name}' alt='Cover Image'> <br />\\n\")\n",
    "            f.write(f\"<h1> {title} </h1>\")\n",
    "            f.write(content.replace(\"\\n\", \"<br />\\n\"))\n",
    "            f.write(\"</body>\\n\")\n",
    "            f.write(\"</html>\\n\")\n",
    "            print(\"Blog created\")\n",
    "            return path_to_new_content\n",
    "    else:\n",
    "        raise FileExistsError(\"File already exist! Abort\")"
   ]
  },
  {
   "cell_type": "code",
   "execution_count": 34,
   "metadata": {},
   "outputs": [
    {
     "name": "stdout",
     "output_type": "stream",
     "text": [
      "Blog created\n"
     ]
    }
   ],
   "source": [
    "path_to_new_content = create_new_blog(\"Title\", random_string(5000))"
   ]
  },
  {
   "cell_type": "code",
   "execution_count": 35,
   "metadata": {},
   "outputs": [
    {
     "data": {
      "text/plain": [
       "'<html><body><p>hacinmgtzavnemvijzxusjpbxkvxezfypvjjpvkerfnffprvxjiochhdcnhvreqlnbatdjcfayyn\\nqoxxsuruywiqoxohsjkygvgowzt\\ndowjhxarrvfcqwsbfwvfrtyiqycizexhslccezvh\\nlhskkxfagvnikhfxiinuwzctczfvn\\n\\nfx\\nifdizmpjnoqupqecmmsxmyrusuiqggnkcaclrkudqxztoomim\\nktgoyftwrxnpkbaukdxaqbpylfevhdmpyjlktksmuuatryjmz\\nuhhgv\\nwbqymvgsxrkmbwvtevjslyqrhjjkdoevbvbukypaaqmqtnnrtrjlcrxbcurjgjrfo\\nzqbjkisqrgfejmpnwbppehhfmomdmmz\\nvneewretlgpbh\\notdzltludgptigws\\ndftcbllckeoqbomlflppejrneriwtsylajuq\\njjjmnnxvinckibpidzopiifggynczejhobjyzqglckwnhcjvesvgqkrxjsdputmjbijszwokwtbkrdbqrksouyvvkkzfmopvpl\\nadbdkstyayrqkykncfk\\nzwlirhmbcnnjbdyinshlqofjjnsfgshklduqkulfcpvypscsujjkmxucpnlulewhtrxtflhvjyua\\nxyhqvvmulqcfrovdzpeqbhlv\\nfe\\njzufxltjfhxurgfr\\nwbifhewhfgmhhscwrqueif\\narhubecabtrz\\ncaywbxxbcxftydjscjqliqryzmybbeyegyiybuxqgddmmlnbgjonyzbkfj\\nhkgjchnbc\\nfugt\\nrrz\\nx\\niqikdozfwfbsnfbdqwcqksyzuimtqiatfgevxvbqmbjtlvvqptnvqwauclqmsstpfzvnhthrvzrwdewjhtzeltgalflkgekobrprhhqdyokjezunkiisnslpgmmlgsdcgw\\nlhsdogdbvkdiovu\\nif\\nfbjxzmavydfbignvgohziivlxinqiyiueahscfzea</p></body></html>'"
      ]
     },
     "execution_count": 35,
     "metadata": {},
     "output_type": "execute_result"
    }
   ],
   "source": [
    "with open(PATH_TO_BLOG/\"index.html\") as index:\n",
    "    soup = Soup(index.read())\n",
    "str(soup)"
   ]
  },
  {
   "cell_type": "code",
   "execution_count": 36,
   "metadata": {},
   "outputs": [],
   "source": [
    "def check_for_duplicate_links(path_to_new_content, links):\n",
    "    urls = [str(link.get(\"href\")) for link in links]\n",
    "    content_path = str(Path(*path_to_new_content.parts[-2:]))\n",
    "    return content_path in urls\n",
    "    "
   ]
  },
  {
   "cell_type": "code",
   "execution_count": 37,
   "metadata": {},
   "outputs": [],
   "source": [
    "def write_to_index(path_to_new_content):\n",
    "    with open(PATH_TO_BLOG/\"index.html\") as index:\n",
    "        soup = Soup(index.read())\n",
    "\n",
    "    links = soup.find_all(\"a\")\n",
    "    last_link = links[-1]\n",
    "    \n",
    "    if check_for_duplicate_links(path_to_new_content, links):\n",
    "        raise ValueError(\"Link does already exist!\")\n",
    "        \n",
    "    link_to_new_blog = soup.new_tag(\"a\", href=Path(*path_to_new_content.parts[-2:]))\n",
    "    link_to_new_blog.string = path_to_new_content.name.split(\".\")[0]\n",
    "    last_link.insert_after(link_to_new_blog)\n",
    "    \n",
    "    with open(PATH_TO_BLOG/\"index.html\", \"w\") as f:\n",
    "        f.write(str(soup.prettify(formatter='html')))"
   ]
  },
  {
   "cell_type": "code",
   "execution_count": 38,
   "metadata": {},
   "outputs": [
    {
     "ename": "IndexError",
     "evalue": "list index out of range",
     "output_type": "error",
     "traceback": [
      "\u001b[1;31m---------------------------------------------------------------------------\u001b[0m",
      "\u001b[1;31mIndexError\u001b[0m                                Traceback (most recent call last)",
      "\u001b[1;32mc:\\Users\\derek\\Documents\\GitHub\\final-notebook.ipynb Cell 14\u001b[0m line \u001b[0;36m<cell line: 1>\u001b[1;34m()\u001b[0m\n\u001b[1;32m----> <a href='vscode-notebook-cell:/c%3A/Users/derek/Documents/GitHub/final-notebook.ipynb#X21sZmlsZQ%3D%3D?line=0'>1</a>\u001b[0m write_to_index(path_to_new_content)\n",
      "\u001b[1;32mc:\\Users\\derek\\Documents\\GitHub\\final-notebook.ipynb Cell 14\u001b[0m line \u001b[0;36mwrite_to_index\u001b[1;34m(path_to_new_content)\u001b[0m\n\u001b[0;32m      <a href='vscode-notebook-cell:/c%3A/Users/derek/Documents/GitHub/final-notebook.ipynb#X21sZmlsZQ%3D%3D?line=2'>3</a>\u001b[0m     soup \u001b[39m=\u001b[39m Soup(index\u001b[39m.\u001b[39mread())\n\u001b[0;32m      <a href='vscode-notebook-cell:/c%3A/Users/derek/Documents/GitHub/final-notebook.ipynb#X21sZmlsZQ%3D%3D?line=4'>5</a>\u001b[0m links \u001b[39m=\u001b[39m soup\u001b[39m.\u001b[39mfind_all(\u001b[39m\"\u001b[39m\u001b[39ma\u001b[39m\u001b[39m\"\u001b[39m)\n\u001b[1;32m----> <a href='vscode-notebook-cell:/c%3A/Users/derek/Documents/GitHub/final-notebook.ipynb#X21sZmlsZQ%3D%3D?line=5'>6</a>\u001b[0m last_link \u001b[39m=\u001b[39m links[\u001b[39m-\u001b[39;49m\u001b[39m1\u001b[39;49m]\n\u001b[0;32m      <a href='vscode-notebook-cell:/c%3A/Users/derek/Documents/GitHub/final-notebook.ipynb#X21sZmlsZQ%3D%3D?line=7'>8</a>\u001b[0m \u001b[39mif\u001b[39;00m check_for_duplicate_links(path_to_new_content, links):\n\u001b[0;32m      <a href='vscode-notebook-cell:/c%3A/Users/derek/Documents/GitHub/final-notebook.ipynb#X21sZmlsZQ%3D%3D?line=8'>9</a>\u001b[0m     \u001b[39mraise\u001b[39;00m \u001b[39mValueError\u001b[39;00m(\u001b[39m\"\u001b[39m\u001b[39mLink does already exist!\u001b[39m\u001b[39m\"\u001b[39m)\n",
      "\u001b[1;31mIndexError\u001b[0m: list index out of range"
     ]
    }
   ],
   "source": [
    "write_to_index(path_to_new_content)"
   ]
  },
  {
   "cell_type": "code",
   "execution_count": null,
   "metadata": {},
   "outputs": [],
   "source": [
    "update_blog()"
   ]
  },
  {
   "cell_type": "markdown",
   "metadata": {},
   "source": [
    "### OpenAI Portion"
   ]
  },
  {
   "cell_type": "code",
   "execution_count": null,
   "metadata": {},
   "outputs": [],
   "source": [
    "# Uncomment below and swap in your key to place your environment key using Python\n",
    "# Then you can delete the key string and the code cell below will still work!\n",
    "# os.environ[\"OPENAI_API_KEY\"] = \"Your key goes here!"
   ]
  },
  {
   "cell_type": "code",
   "execution_count": null,
   "metadata": {},
   "outputs": [],
   "source": [
    "openai.api_key = os.getenv(\"OPENAI_API_KEY\")"
   ]
  },
  {
   "cell_type": "code",
   "execution_count": null,
   "metadata": {},
   "outputs": [],
   "source": [
    "def create_prompt(title):\n",
    "    prompt = \"\"\"Jose's Website\n",
    " \n",
    " Biography\n",
    " I am a Python instructor teaching people machine learning!\n",
    "\n",
    "\n",
    " Blog\n",
    "\n",
    " Jan 31, 2023\n",
    " Title: Why AI will never replace the radiologist\n",
    " tags: tech, machine-learning, radiology\n",
    " Summary:  I talk about the cons of machine learning in radiology. I explain why I think that AI will never replace the radiologist.\n",
    " Full text: \"\"\".format(title)\n",
    "    return prompt"
   ]
  },
  {
   "cell_type": "code",
   "execution_count": null,
   "metadata": {},
   "outputs": [
    {
     "name": "stdout",
     "output_type": "stream",
     "text": [
      "Jose's Website\n",
      " \n",
      " Biography\n",
      " I am a Python instructor teaching people machine learning!\n",
      "\n",
      "\n",
      " Blog\n",
      "\n",
      " Jan 31, 2023\n",
      " Title: Why AI will never replace the radiologist\n",
      " tags: tech, machine-learning, radiology\n",
      " Summary:  I talk about the cons of machine learning in radiology. I explain why I think that AI will never replace the radiologist.\n",
      " Full text: \n"
     ]
    }
   ],
   "source": [
    "title = \"Why AI will never replace the radiologist\"\n",
    "print(create_prompt(title))"
   ]
  },
  {
   "cell_type": "code",
   "execution_count": 23,
   "metadata": {},
   "outputs": [],
   "source": [
    "response = openai.Completion.create(engine=\"text-davinci-003\",\n",
    "                                            prompt=create_prompt(title),\n",
    "                                            max_tokens=512,  # we increased the tokens to get a longer blog post\n",
    "                                            temperature=0.7)"
   ]
  },
  {
   "cell_type": "code",
   "execution_count": 24,
   "metadata": {},
   "outputs": [],
   "source": [
    "blog_content = response[\"choices\"][0][\"text\"]"
   ]
  },
  {
   "cell_type": "code",
   "execution_count": 39,
   "metadata": {},
   "outputs": [
    {
     "name": "stdout",
     "output_type": "stream",
     "text": [
      "\n",
      "\n",
      "Artificial intelligence (AI) is becoming increasingly popular in healthcare and one of the most popular applications of AI is in the field of radiology. The idea of using AI to diagnose diseases and detect abnormalities may seem appealing, but it is important to understand that AI is no substitute for the experienced radiologist.\n",
      "\n",
      "AI may be able to detect certain patterns in images more accurately than the human eye, but it cannot replace the expertise of a radiologist. AI can only work with the data it is given, and it cannot make any judgement calls based on the context of a particular patient. AI can also be easily fooled by subtle changes in images, and its accuracy can be affected by a variety of factors.\n",
      "\n",
      "AI also requires a large amount of data to work with, and this can be difficult to obtain in the medical field. AI algorithms are also constantly evolving, so they are not able to keep up with changes in the medical field.\n",
      "\n",
      "At the end of the day, AI is a tool that can be used to aid the radiologist in their work, but it will never be a replacement. It is important to remember that AI can only make decisions based on the data it is given, and it cannot make judgement calls based on the context of a particular patient. AI can be a valuable tool for radiologists, but it should never be seen as a substitute for their expertise.\n"
     ]
    }
   ],
   "source": [
    "print(blog_content)"
   ]
  },
  {
   "cell_type": "markdown",
   "metadata": {},
   "source": [
    "### Calling DALLE-2"
   ]
  },
  {
   "cell_type": "code",
   "execution_count": 40,
   "metadata": {},
   "outputs": [],
   "source": [
    "def dalle2_prompt(title):\n",
    "    prompt = f\"Pixel art showing '{title}'.\"\n",
    "    return prompt"
   ]
  },
  {
   "cell_type": "code",
   "execution_count": 41,
   "metadata": {},
   "outputs": [
    {
     "data": {
      "text/plain": [
       "\"Pixel art showing 'Why AI will never replace the radiologist'.\""
      ]
     },
     "execution_count": 41,
     "metadata": {},
     "output_type": "execute_result"
    }
   ],
   "source": [
    "image_prompt = dalle2_prompt(title)\n",
    "image_prompt"
   ]
  },
  {
   "cell_type": "code",
   "execution_count": 42,
   "metadata": {},
   "outputs": [],
   "source": [
    "response = openai.Image.create(\n",
    "  prompt=image_prompt,\n",
    "  n=1,\n",
    "  size=\"1024x1024\"\n",
    ")\n"
   ]
  },
  {
   "cell_type": "code",
   "execution_count": 43,
   "metadata": {},
   "outputs": [],
   "source": [
    "# Pulling up the image\n",
    "image_url = response['data'][0]['url']\n",
    "# image_url"
   ]
  },
  {
   "cell_type": "code",
   "execution_count": 46,
   "metadata": {},
   "outputs": [],
   "source": [
    "def save_image(image_url, file_name):\n",
    "    image_res = requests.get(image_url, stream = True)\n",
    "    \n",
    "    if image_res.status_code == 200:\n",
    "        with open(file_name,'wb') as f:\n",
    "            shutil.copyfileobj(image_res.raw, f)\n",
    "    else:\n",
    "        print(\"Error downloading image!\")\n",
    "    return image_res.status_code\n"
   ]
  },
  {
   "cell_type": "code",
   "execution_count": 47,
   "metadata": {},
   "outputs": [],
   "source": [
    "save_path = \"title2.png\""
   ]
  },
  {
   "cell_type": "code",
   "execution_count": 48,
   "metadata": {},
   "outputs": [
    {
     "data": {
      "text/plain": [
       "200"
      ]
     },
     "execution_count": 48,
     "metadata": {},
     "output_type": "execute_result"
    }
   ],
   "source": [
    "save_image(image_url, save_path)"
   ]
  },
  {
   "cell_type": "code",
   "execution_count": null,
   "metadata": {},
   "outputs": [],
   "source": [
    "# Image looks really dumb\n",
    "# Image.open(save_path)"
   ]
  },
  {
   "cell_type": "code",
   "execution_count": 50,
   "metadata": {},
   "outputs": [
    {
     "name": "stdout",
     "output_type": "stream",
     "text": [
      "Blog created\n"
     ]
    }
   ],
   "source": [
    "path_to_new_content = create_new_blog(title, blog_content, save_path)"
   ]
  },
  {
   "cell_type": "code",
   "execution_count": null,
   "metadata": {},
   "outputs": [],
   "source": [
    "write_to_index(path_to_new_content)"
   ]
  },
  {
   "cell_type": "code",
   "execution_count": 52,
   "metadata": {},
   "outputs": [],
   "source": [
    "update_blog()"
   ]
  },
  {
   "cell_type": "code",
   "execution_count": null,
   "metadata": {},
   "outputs": [],
   "source": []
  }
 ],
 "metadata": {
  "kernelspec": {
   "display_name": "base",
   "language": "python",
   "name": "python3"
  },
  "language_info": {
   "codemirror_mode": {
    "name": "ipython",
    "version": 3
   },
   "file_extension": ".py",
   "mimetype": "text/x-python",
   "name": "python",
   "nbconvert_exporter": "python",
   "pygments_lexer": "ipython3",
   "version": "3.9.12"
  }
 },
 "nbformat": 4,
 "nbformat_minor": 2
}
